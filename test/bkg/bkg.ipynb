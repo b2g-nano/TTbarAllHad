{
 "cells": [
  {
   "cell_type": "raw",
   "metadata": {},
   "source": []
  },
  {
   "cell_type": "markdown",
   "metadata": {},
   "source": [
    "# Create Background estimate for ttbar All-Hadronic Analysis\n",
    "\n",
    "\n",
    "The luminosities are 36.26, 41.37, 61.6 fb$^{-1}$ for the three runs. "
   ]
  },
  {
   "cell_type": "code",
   "execution_count": null,
   "metadata": {
    "scrolled": false
   },
   "outputs": [],
   "source": [
    "#!/usr/bin/env python\n",
    "\n",
    "import ROOT\n",
    "import itertools\n",
    "\n",
    "import os\n",
    "import glob\n",
    "infile = ROOT.TFile('../hists/BkgEstimate_all.root')\n",
    "ttbarfile = ROOT.TFile('../hists/BkgEstimate_crab__TTJets_TuneCP5_13TeV-madgraphMLM-pythia8_RunIIFall17NanoAODv4-PU2017_12Apr2018_Nano14Dec2018_102X_m.root')\n",
    "\n",
    "cats = range(1,6)\n",
    "vars = ['ttbarres/predJetMTTBARMod']\n",
    "canvs = []\n",
    "hists = []\n",
    "\n",
    "lumis = [36.26, 41.37, 61.6] # fb^-1\n",
    "ttbar_xs = 831.76 * 0.457 #  pb     BR for all-jets: 0.457  # from https://twiki.cern.ch/twiki/bin/view/LHCPhysics/TtbarNNLO\n",
    "ttbar_nevt = 8026103.   # from https://cmsweb.cern.ch/das/request?input=dataset%3D%2FTTJets_TuneCP5_13TeV-madgraphMLM-pythia8%2FRunIIFall17MiniAODv2-PU2017_12Apr2018_94X_mc2017_realistic_v14-v1%2FMINIAODSIM&instance=prod/global\n",
    "lumi = sum(lumis) * ( 1000. ) # pb-1 \n",
    "\n",
    "for ivar,var in enumerate(vars):\n",
    "    for icat in cats:\n",
    "        cat = str(icat)\n",
    "        iname = str(ivar)+'_'+str(icat)\n",
    "        c = ROOT.TCanvas(\"c\"+iname,\"c\"+iname )\n",
    "        canvs.append(c)\n",
    "\n",
    "        obs = infile.Get(var+cat)\n",
    "        obs.SetMarkerStyle(20)\n",
    "        pred = infile.Get(var+cat+\"_pred\")\n",
    "        pred.SetFillColor(ROOT.kYellow)\n",
    "        ttbar_obs = ttbarfile.Get(var + cat)        \n",
    "        ttbar_obs.SetFillColor(ROOT.kRed)\n",
    "        ttbar_obs.Scale( ttbar_xs * lumi / ttbar_nevt )\n",
    "        stack = ROOT.THStack(\"bkg_\" + var + cat, pred.GetTitle() )\n",
    "        stack.Add( ttbar_obs, 'hist' )\n",
    "        stack.Add( pred, 'hist' )\n",
    "        obs.Draw()\n",
    "        stack.Draw(\"same\")\n",
    "        obs.Draw(\"same\")\n",
    "        hists.append( [obs,pred,stack])\n",
    "        c.Draw()\n",
    "\n",
    "\n"
   ]
  },
  {
   "cell_type": "code",
   "execution_count": null,
   "metadata": {},
   "outputs": [],
   "source": []
  }
 ],
 "metadata": {
  "kernelspec": {
   "display_name": "Python 2",
   "language": "python",
   "name": "python2"
  },
  "language_info": {
   "codemirror_mode": {
    "name": "ipython",
    "version": 2
   },
   "file_extension": ".py",
   "mimetype": "text/x-python",
   "name": "python",
   "nbconvert_exporter": "python",
   "pygments_lexer": "ipython2",
   "version": "2.7.15"
  }
 },
 "nbformat": 4,
 "nbformat_minor": 2
}
